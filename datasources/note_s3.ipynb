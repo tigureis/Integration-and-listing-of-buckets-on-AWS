{
 "cells": [
  {
   "cell_type": "code",
   "execution_count": 19,
   "metadata": {},
   "outputs": [
    {
     "name": "stdout",
     "output_type": "stream",
     "text": [
      "Requirement already satisfied: boto3 in /home/tigureis/DNC_engenharia_de_dados/.env/lib/python3.12/site-packages (1.35.97)\n",
      "Requirement already satisfied: botocore<1.36.0,>=1.35.97 in /home/tigureis/DNC_engenharia_de_dados/.env/lib/python3.12/site-packages (from boto3) (1.35.97)\n",
      "Requirement already satisfied: jmespath<2.0.0,>=0.7.1 in /home/tigureis/DNC_engenharia_de_dados/.env/lib/python3.12/site-packages (from boto3) (1.0.1)\n",
      "Requirement already satisfied: s3transfer<0.11.0,>=0.10.0 in /home/tigureis/DNC_engenharia_de_dados/.env/lib/python3.12/site-packages (from boto3) (0.10.4)\n",
      "Requirement already satisfied: python-dateutil<3.0.0,>=2.1 in /home/tigureis/DNC_engenharia_de_dados/.env/lib/python3.12/site-packages (from botocore<1.36.0,>=1.35.97->boto3) (2.9.0.post0)\n",
      "Requirement already satisfied: urllib3!=2.2.0,<3,>=1.25.4 in /home/tigureis/DNC_engenharia_de_dados/.env/lib/python3.12/site-packages (from botocore<1.36.0,>=1.35.97->boto3) (2.3.0)\n",
      "Requirement already satisfied: six>=1.5 in /home/tigureis/DNC_engenharia_de_dados/.env/lib/python3.12/site-packages (from python-dateutil<3.0.0,>=2.1->botocore<1.36.0,>=1.35.97->boto3) (1.17.0)\n"
     ]
    }
   ],
   "source": [
    "!pip install boto3\n",
    "!pip install botocore"
   ]
  },
  {
   "cell_type": "code",
   "execution_count": 37,
   "metadata": {},
   "outputs": [
    {
     "data": {
      "text/plain": [
       "True"
      ]
     },
     "execution_count": 37,
     "metadata": {},
     "output_type": "execute_result"
    }
   ],
   "source": [
    "#Creating a new Bucket on AWS\n",
    "\n",
    "import boto3                                                                    # Import the AWS SDK for Python (boto3)\n",
    "import logging                                                                  # Import logging for error handling\n",
    "from botocore.exceptions import ClientError                                     # Import ClientError for handling exceptions\n",
    "\n",
    "s3=boto3.client('s3')                                                           # Create an S3 client \n",
    "\n",
    "def create_bucket(bucket_name, region=None):\n",
    "    \"\"\"\n",
    "    Creates an S3 bucket in the specified region.\n",
    "\n",
    "    Args:\n",
    "        bucket_name (str): The name of the bucket to create.\n",
    "        region (str, optional): The AWS region where the bucket should be created. \n",
    "                                If None, the bucket will be created in the default region.\n",
    "\n",
    "    Returns:\n",
    "        bool: True if the bucket was created successfully, False otherwise.\n",
    "    \"\"\"\n",
    "\n",
    "\n",
    "\n",
    "    try:\n",
    "        if region is None:                                                      # If no region is specified, use the default region\n",
    "            s3_client =boto3.client('s3')\n",
    "            s3_client.create_bucket(Bucket=bucket_name)\n",
    "        else:                                                                   # If a region is specified, create the bucket in the specified region\n",
    "            s3_client =boto3.client('s3', region_name=region)\n",
    "            location = {'LocationConstraint': region}\n",
    "            s3_client.create_bucket(Bucket=bucket_name,\n",
    "                                    CreateBucketConfiguration=location)\n",
    "    \n",
    "    except ClientError as e:                                                    # Log the error and return False if an error occurs\n",
    "        logging.error(e)\n",
    "        return False\n",
    "    \n",
    "    return True                                                                 # Return True if the bucket was created successfully\n",
    "\n",
    "create_bucket(                                                                  # Call the function to create the bucket\n",
    "    bucket_name=\"bucket-testing-dnc-tigureis\"\n",
    ")"
   ]
  },
  {
   "cell_type": "code",
   "execution_count": null,
   "metadata": {},
   "outputs": [
    {
     "name": "stdout",
     "output_type": "stream",
     "text": [
      "{'Name': 'bucket-testing-dnc-tigureis', 'CreationDate': datetime.datetime(2025, 1, 14, 2, 12, 8, tzinfo=tzutc())}\n",
      "{'Name': 'dnc-thiago-test', 'CreationDate': datetime.datetime(2025, 1, 13, 18, 14, 17, tzinfo=tzutc())}\n"
     ]
    }
   ],
   "source": [
    "#List AWS Buckets on the AWS account\n",
    "\n",
    "response=s3.list_buckets()                                                      # Get a list of all S3 buckets\n",
    "\n",
    "for bucket in response[\"Buckets\"]:                                              # Iterate through the list of buckets and print information about each one"
   ]
  },
  {
   "cell_type": "code",
   "execution_count": 27,
   "metadata": {},
   "outputs": [
    {
     "data": {
      "text/plain": [
       "{'ResponseMetadata': {'RequestId': 'PYTDPPKX2AYQDHGW',\n",
       "  'HostId': 'eUOQlngmwG8VQ5fIKKbPlCB8LlmEQqrN8ZMwmFDPzW+WFqjs0AcsOqyxBTnwTC0v1RPvotekFLY=',\n",
       "  'HTTPStatusCode': 200,\n",
       "  'HTTPHeaders': {'x-amz-id-2': 'eUOQlngmwG8VQ5fIKKbPlCB8LlmEQqrN8ZMwmFDPzW+WFqjs0AcsOqyxBTnwTC0v1RPvotekFLY=',\n",
       "   'x-amz-request-id': 'PYTDPPKX2AYQDHGW',\n",
       "   'date': 'Thu, 16 Jan 2025 17:15:07 GMT',\n",
       "   'x-amz-bucket-region': 'us-east-1',\n",
       "   'content-type': 'application/xml',\n",
       "   'transfer-encoding': 'chunked',\n",
       "   'server': 'AmazonS3'},\n",
       "  'RetryAttempts': 0},\n",
       " 'IsTruncated': False,\n",
       " 'Name': 'bucket-testing-dnc-tigureis',\n",
       " 'Prefix': '',\n",
       " 'Delimiter': '/',\n",
       " 'MaxKeys': 1000,\n",
       " 'CommonPrefixes': [{'Prefix': 'uploading/'}],\n",
       " 'EncodingType': 'url',\n",
       " 'KeyCount': 1}"
      ]
     },
     "execution_count": 27,
     "metadata": {},
     "output_type": "execute_result"
    }
   ],
   "source": [
    "# listing directories within an AWS bucket\n",
    "\n",
    "BUCKET_NAME='bucket-testing-dnc-tigureis'\n",
    "PREFIX = ''\n",
    "DELIMITER = '/'\n",
    "\n",
    "\n",
    "\n",
    "response=s3.list_objects_v2(                                                    #Request to AWS to get a list of all the files and objects stored in the specified S3 bucket.\n",
    "    Bucket=BUCKET_NAME,\n",
    "    Prefix=PREFIX,\n",
    "    Delimiter=DELIMITER)\n",
    "\n",
    "response"
   ]
  },
  {
   "cell_type": "code",
   "execution_count": 39,
   "metadata": {},
   "outputs": [
    {
     "data": {
      "text/plain": [
       "[]"
      ]
     },
     "execution_count": 39,
     "metadata": {},
     "output_type": "execute_result"
    }
   ],
   "source": [
    "# Extract subdirectory names from the 'CommonPrefixes' list in the response.\n",
    "\n",
    "directories = [prefix ['Prefix'] for prefix in response.get('CommonPrefixes',[])]\n",
    "directories"
   ]
  },
  {
   "cell_type": "code",
   "execution_count": 40,
   "metadata": {},
   "outputs": [
    {
     "name": "stdout",
     "output_type": "stream",
     "text": [
      "uploading/new_world_cup.csv\n"
     ]
    }
   ],
   "source": [
    "#List objects inside a Bucket\n",
    "\n",
    "BUCKET_NAME='bucket-testing-dnc-tigureis'\n",
    "\n",
    "\n",
    "response = s3.list_objects_v2(\n",
    "    Bucket=BUCKET_NAME                                                          # List objects in the specified bucket\n",
    ")\n",
    "\n",
    "objects = response.get('Contents', [])                                          # Get the list of objects from the response\n",
    "\n",
    "for object in objects:                                                          # Iterate through each object in the list and Print the object key \n",
    "    print(object['Key'])"
   ]
  },
  {
   "cell_type": "code",
   "execution_count": 30,
   "metadata": {},
   "outputs": [],
   "source": [
    "# Upload files on an AWS Bucket\n",
    "\n",
    "import boto3\n",
    "from botocore.exceptions import ClientError\n",
    "import os\n",
    "\n",
    "def upload_file(file_name, bucket, object_name=None):\n",
    "    \"\"\"\n",
    "    Uploads a file to an S3 bucket.\n",
    "\n",
    "    Args:\n",
    "        file_name (str): The path to the local file to upload.\n",
    "        bucket (str): The name of the S3 bucket to upload the file to.\n",
    "        object_name (str, optional): The desired name of the object in the S3 bucket. \n",
    "                                    If not provided, the original filename is used.\n",
    "\n",
    "    Returns:\n",
    "        bool: True if the file was uploaded successfully, False otherwise.\n",
    "    \"\"\"\n",
    "\n",
    "    s3_client=boto3.client('s3')                                                # Create an S3 client\n",
    "\n",
    "    if object_name is None:                                                     # If no object name is provided, use the original filename\n",
    "        object_name= os.pat.basename(file_name)\n",
    "\n",
    "    try:\n",
    "        s3_client.upload_file(                                                  # Upload the file to the S3 bucket\n",
    "            file_name, bucket, object_name)\n",
    "    except ClientError as e:                                                    # Handle any errors that occur during the upload\n",
    "        logging.error(e)                                                        # Log the error message\n",
    "        return False\n",
    "    \n",
    "    return True                                                                 # Return True if the upload was successful\n",
    "\n",
    "upload_file(\n",
    "    file_name=\"/home/tigureis/DNC_engenharia_de_dados/Input_data/WorldCups.csv\",\n",
    "    bucket='bucket-testing-dnc-tigureis',\n",
    "    object_name='uploading/new_world_cup.csv'\n",
    ")"
   ]
  },
  {
   "cell_type": "code",
   "execution_count": 33,
   "metadata": {},
   "outputs": [],
   "source": [
    "# download files from s3\n",
    "import boto3\n",
    "\n",
    "s3_client=boto3.client('s3')\n",
    "\n",
    "s3.download_file(\n",
    "    Bucket = 'bucket-testing-dnc-tigureis',\n",
    "    Key='uploading/new_world_cup.csv',\n",
    "    Filename='/home/tigureis/DNC_engenharia_de_dados/sink/world_cup_from_s3.csv'\n",
    ")"
   ]
  },
  {
   "cell_type": "code",
   "execution_count": 35,
   "metadata": {},
   "outputs": [],
   "source": [
    "# create a presigned URL for download the file\n",
    "\n",
    "import logging\n",
    "import boto3\n",
    "from botocore.exceptions import ClientError\n",
    "\n",
    "def create_presigned_url(bucket_name, object_name, expiration=3600):\n",
    "    \"\"\"\n",
    "    Generates a pre-signed URL for accessing an S3 object.\n",
    "\n",
    "    Args:\n",
    "        bucket_name (str): The name of the S3 bucket.\n",
    "        object_name (str): The name of the object within the bucket.\n",
    "        expiration (int, optional): The number of seconds the URL will be valid for. Defaults to 3600 seconds (1 hour).\n",
    "\n",
    "    Returns:\n",
    "        str: The pre-signed URL if successful, False otherwise.\n",
    "    \"\"\"\n",
    "\n",
    "    s3_client=boto3.client('s3')                                                # Create an S3 client\n",
    "\n",
    "    try:\n",
    "        response= s3_client.generate_presigned_url(                             # Generate the pre-signed URL\n",
    "            'get_object',                                                       # Specify the action ('get_object')\n",
    "            Params={                                                            \n",
    "                'Bucket': bucket_name,                                          # Specify the bucket name\n",
    "                'Key': object_name                                              # Specify the object key\n",
    "            },\n",
    "            ExpiresIn = expiration                                              # Set the URL expiration time\n",
    "\n",
    "        )\n",
    "\n",
    "    except ClientError as e:                                                    # Handle any errors that occur during URL generation\n",
    "        logging.error(e)                                                        # Log the error message\n",
    "        return False\n",
    "\n",
    "    return response                                                             # Return the generated URL\n",
    "\n",
    "\n",
    "bucket_name='bucket-testing-dnc-tigureis'\n",
    "object_key='uploading/new_world_cup.csv'\n",
    "\n",
    "url = create_presigned_url(bucket_name=bucket_name, object_name=object_key)     # Generate the URL\n",
    "url"
   ]
  }
 ],
 "metadata": {
  "kernelspec": {
   "display_name": ".env",
   "language": "python",
   "name": "python3"
  },
  "language_info": {
   "codemirror_mode": {
    "name": "ipython",
    "version": 3
   },
   "file_extension": ".py",
   "mimetype": "text/x-python",
   "name": "python",
   "nbconvert_exporter": "python",
   "pygments_lexer": "ipython3",
   "version": "3.12.3"
  }
 },
 "nbformat": 4,
 "nbformat_minor": 2
}
